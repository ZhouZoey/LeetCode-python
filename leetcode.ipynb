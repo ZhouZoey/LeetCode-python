{
 "cells": [
  {
   "cell_type": "code",
   "execution_count": 23,
   "metadata": {},
   "outputs": [
    {
     "name": "stdout",
     "output_type": "stream",
     "text": [
      "(0, 1)\n"
     ]
    }
   ],
   "source": [
    "# leetcode-1:求2数之和\n",
    "# 方法一：枚举\n",
    "class Solution(object):\n",
    "    def twoSum(self, nums, target):\n",
    "        n = len(nums)\n",
    "        for i in range(n):\n",
    "            for j in range(i+1, n):\n",
    "                if nums[i] + nums[j] == target:\n",
    "                    return i, j\n",
    "\n",
    "num = [2, 7, 9, 11]\n",
    "targets = 9\n",
    "a = Solution()\n",
    "print(a.twoSum(num, targets))"
   ]
  },
  {
   "cell_type": "code",
   "execution_count": 3,
   "metadata": {},
   "outputs": [],
   "source": [
    "# leetcode-1:求2数之和\n",
    "# 方法二：哈希字典\n",
    "class Solution(object):\n",
    "    def twoSum(self, nums, target):\n",
    "        dct = { }\n",
    "        for i, n in enumerate(nums):\n",
    "            cp = target - n\n",
    "            if cp in dct:\n",
    "                return [dct[cp], i]\n",
    "            else:\n",
    "                dct[n] = i"
   ]
  },
  {
   "cell_type": "code",
   "execution_count": 37,
   "metadata": {},
   "outputs": [],
   "source": [
    "# leetcode-2：复制链表\n",
    "# 普通链表\n",
    "class Node:\n",
    "    def __init__(self, x: int, next: 'Node' = None):\n",
    "        self.val = int(x)\n",
    "        self.next = next"
   ]
  },
  {
   "cell_type": "code",
   "execution_count": 5,
   "metadata": {},
   "outputs": [],
   "source": [
    "# 加入random指针后的链表\n",
    "class Node:\n",
    "    def __init__(self, x: int, next: 'Node' = None, random: 'Node' = None):\n",
    "        self.val = int(x)\n",
    "        self.next = next\n",
    "        self.random = random"
   ]
  },
  {
   "cell_type": "code",
   "execution_count": 36,
   "metadata": {},
   "outputs": [],
   "source": [
    "# 普通链表复制\n",
    "class Solution:\n",
    "    def copyRandomList(self, head: 'Node') -> 'Node':\n",
    "        cur = head\n",
    "        dum = pre = Node[0]\n",
    "        while cur:\n",
    "            node = Node(cur.val) # 复制结点cur\n",
    "            pre.next = node      # 新链表的 前驱结点-> 当前结点\n",
    "            cur = cur.next       # 遍历下一结点\n",
    "            pre = node           # 保存当前新结点\n",
    "        return dum.next"
   ]
  },
  {
   "cell_type": "code",
   "execution_count": 41,
   "metadata": {},
   "outputs": [],
   "source": [
    "# 包含random指针的链表复制\n",
    "# 方法一：哈希表法\n",
    "class Solution:\n",
    "    def copyRandomList(self, head: 'Node') -> 'Node':\n",
    "        # 1、如果head为null，直接返回null\n",
    "        if not head: return\n",
    "        # 2、初始化\n",
    "        dic = { }\n",
    "        # 3、复制链表\n",
    "        cur = head\n",
    "        while cur:\n",
    "            dic[cur] = Node(cur.val)\n",
    "            cur = cur.next\n",
    "        # 4、构建新结点的next和random指向\n",
    "        cur = head\n",
    "        while cur:\n",
    "            dic[cur].next = dic.get(cur.next)\n",
    "            dic[cur].random = dic.get(cur.random)\n",
    "            cur = cur.next\n",
    "        # 5、返回新链表头结点\n",
    "        return dic[head]"
   ]
  },
  {
   "cell_type": "code",
   "execution_count": 42,
   "metadata": {},
   "outputs": [],
   "source": [
    "class Solution:\n",
    "    def copyRandomList(self, head: 'Node') -> 'Node':\n",
    "        if not head: return\n",
    "        cur = head\n",
    "        # 1、复制各节点，拼接链表\n",
    "        while cur:\n",
    "            tmp = Node(cur.val)\n",
    "            tmp.next = cur.next\n",
    "            cur.next = tmp\n",
    "            cur = tmp.next\n",
    "        # 2、构建新结点的random指向\n",
    "        cur = head\n",
    "        while cur:\n",
    "            if cur.random:\n",
    "                cur.next.random = cur.random.next\n",
    "            cur = cur.next.next\n",
    "        # 3、拆分两链表\n",
    "        cur = res = head.next\n",
    "        pre = head\n",
    "        while cur.next:\n",
    "            pre.next = pre.next.next\n",
    "            cur.next = cur.next.next\n",
    "            pre = pre.next\n",
    "            cur = cur.next\n",
    "        pre.next = None        # 单独处理原链表尾结点\n",
    "        return res             # 返回新链表头结点"
   ]
  },
  {
   "cell_type": "code",
   "execution_count": 46,
   "metadata": {},
   "outputs": [],
   "source": [
    "# leetcode-3: 两数相加\n",
    "class Solution:\n",
    "    def addTwoNumbers(self, l1: ListNode, l2: ListNode) -> ListNode:\n",
    "        #创建一个结点值为None的头结点\n",
    "        dummy = p = ListNode(None)\n",
    "        s = 0              # 进位\n",
    "        while l1 or l2 or s:\n",
    "            s += (l1.val if l1 else 0) + (l2.val if l2 else 0)\n",
    "            p.next = ListNode(s % 10)   # p.next指向新链表\n",
    "            p = p.next                  # 遍历\n",
    "            s //= 10                 # 有进位则取模\n",
    "            l1 = l1.next if l1 else None    #如果l1存在，则向后遍历，否则为None\n",
    "            l2 = l2.next if l2 else None\n",
    "        return dummy.next    # 因为dummy指向空节点，所以下一个结点才是新建链表的后续结点"
   ]
  },
  {
   "cell_type": "code",
   "execution_count": null,
   "metadata": {},
   "outputs": [],
   "source": []
  },
  {
   "cell_type": "code",
   "execution_count": null,
   "metadata": {},
   "outputs": [],
   "source": []
  }
 ],
 "metadata": {
  "kernelspec": {
   "display_name": "Python 3",
   "language": "python",
   "name": "python3"
  },
  "language_info": {
   "codemirror_mode": {
    "name": "ipython",
    "version": 3
   },
   "file_extension": ".py",
   "mimetype": "text/x-python",
   "name": "python",
   "nbconvert_exporter": "python",
   "pygments_lexer": "ipython3",
   "version": "3.7.6"
  }
 },
 "nbformat": 4,
 "nbformat_minor": 4
}
