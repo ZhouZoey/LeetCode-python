{
 "cells": [
  {
   "cell_type": "code",
   "execution_count": 8,
   "metadata": {},
   "outputs": [],
   "source": [
    "# Method 1:Enumeration\n",
    "class Solution(object):\n",
    "    def TwoSum(self, nums, target):\n",
    "        n = len(nums)\n",
    "        for i in range(n):\n",
    "            for j in range(i+1, n):\n",
    "                if nums[i] + nums[j] == target:\n",
    "                    return i,j"
   ]
  },
  {
   "cell_type": "code",
   "execution_count": 9,
   "metadata": {},
   "outputs": [
    {
     "name": "stdout",
     "output_type": "stream",
     "text": [
      "(0, 1)\n"
     ]
    }
   ],
   "source": [
    "nums = [2, 7, 9, 11]\n",
    "target = 9\n",
    "a = Solution()\n",
    "print(a.TwoSum(nums, target))"
   ]
  },
  {
   "cell_type": "code",
   "execution_count": 18,
   "metadata": {},
   "outputs": [],
   "source": [
    "# Method 2: hash\n",
    "class Solution(object):\n",
    "    def TwoSum(self, nums, target):\n",
    "        key = { }\n",
    "        for i, n in enumerate(nums):\n",
    "            print(i)\n",
    "            c = target - n\n",
    "            if c in key:\n",
    "                print(key[c])\n",
    "                return [key[c], i]\n",
    "            else:\n",
    "                key[n] = i"
   ]
  },
  {
   "cell_type": "code",
   "execution_count": 20,
   "metadata": {},
   "outputs": [
    {
     "name": "stdout",
     "output_type": "stream",
     "text": [
      "0\n",
      "1\n",
      "2\n",
      "0\n",
      "[0, 2]\n"
     ]
    }
   ],
   "source": [
    "nums = [2, 7, 9, 11]\n",
    "target = 11\n",
    "a = Solution()\n",
    "print(a.TwoSum(nums, target))"
   ]
  },
  {
   "cell_type": "code",
   "execution_count": null,
   "metadata": {},
   "outputs": [],
   "source": []
  }
 ],
 "metadata": {
  "kernelspec": {
   "display_name": "Python 3",
   "language": "python",
   "name": "python3"
  },
  "language_info": {
   "codemirror_mode": {
    "name": "ipython",
    "version": 3
   },
   "file_extension": ".py",
   "mimetype": "text/x-python",
   "name": "python",
   "nbconvert_exporter": "python",
   "pygments_lexer": "ipython3",
   "version": "3.7.6"
  }
 },
 "nbformat": 4,
 "nbformat_minor": 4
}
